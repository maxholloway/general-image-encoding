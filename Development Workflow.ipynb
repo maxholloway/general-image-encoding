{
 "cells": [
  {
   "cell_type": "code",
   "execution_count": null,
   "metadata": {},
   "outputs": [],
   "source": [
    "# General Image Encoder"
   ]
  },
  {
   "cell_type": "markdown",
   "metadata": {},
   "source": [
    "## Summary"
   ]
  },
  {
   "cell_type": "markdown",
   "metadata": {},
   "source": [
    "The gist here is that non-image problems can become image problems if we encode features as pixel channels, and then train an image classifier/regressor on the generated image."
   ]
  },
  {
   "cell_type": "markdown",
   "metadata": {},
   "source": [
    "## Part 0: Getting Data (handled by user)"
   ]
  },
  {
   "cell_type": "markdown",
   "metadata": {},
   "source": [
    "### Summary"
   ]
  },
  {
   "cell_type": "markdown",
   "metadata": {},
   "source": [
    "Get tabular data; user should ensure that all data is clean."
   ]
  },
  {
   "cell_type": "markdown",
   "metadata": {},
   "source": [
    "## Part 1: Feature Engineering"
   ]
  },
  {
   "cell_type": "markdown",
   "metadata": {},
   "source": [
    "In this part, we have some tabular data (say, in a dataframe). Since this will be automated, we will brute-force create a large number of features that hopefully describe the data better than the raw input. We will do this by using the FeatureSynthesis class in this project."
   ]
  },
  {
   "cell_type": "markdown",
   "metadata": {},
   "source": [
    "## Part 2: Clustering Features and Assigning to Channels"
   ]
  },
  {
   "cell_type": "markdown",
   "metadata": {},
   "source": [
    "### Steps\n",
    "1. Ensure that the number of features, $m$, is divisible by the quantity $c\\cdot4^n$ for some $n$, and number of channels per pixel, $c$. If not, go back to the __Feature Engineering__ step and create more features or remove features in order to satisfy this condition.\n",
    "2. Let the data table with the features (in our case, ```pandas.DataFrame```) be called ```features```. Then we convert this to a numpy array, called $X$. The columns represent values for each feature, and each row represents one entry/example. Now note that in traditional cluster analysis, examples are clustered together by minimizing a distance metric, which is computed by finding the examples' different feature lengths. However, in this case, we actually want to group features by example values. Put another way, we want to group the synthetic features that are closest together in value, and the way we determine their similarity is by seeing how similar the values are for their various examples. Hence, in order to cluster the features, we will perform cluster analysis on $X^T$. When there is a large number of examples in $X$, then $X^T$ will have a large number of columns, implying that cluster analysis on $X^T$ will fall victim to the curse of dimensionality. Dimensionality reduction techniques may become helpful to reduce the number of columns (i.e. decrease the number of examples to be used). One option is to perform PCA and get only the most distinct columns of $X^T$. Keep in mind, each feature is represented as a row of $X^T$, so dimensionality reduction on $X^T$ will not decrease the number of generated features.\n",
    "3. Run a function inside the ImageCreation class to create a transformation pipeline. This pipeline will have the following functionality:\n",
    "    * Fit\n",
    "        - Uses ```populate_image_with_feature_names``` on input synthetic features.\n",
    "        - Flattens the feature name array\n",
    "        - (IF fit_and_transform): Re-shuffles the input synthetic features\n",
    "    * Transform\n",
    "        - Takes in a dataframe of only original features, nothing more and nothing less; anything more will be dropped, and if required columns are missing, an exception will be raised.\n",
    "        - Iteratively looks at lowest level features in feature_names_image, perform and store the transformations, then go on to the next higher level of features until there are no more features left. Store all features in a dataframe ```df```.\n",
    "        - Rearrange the columns of ```df``` to fit the order of the columns in the image, and return the DataFrame.    \n",
    "    "
   ]
  },
  {
   "cell_type": "markdown",
   "metadata": {},
   "source": [
    "### Idea for feature selection/dimensionality reduction (in general):\n",
    "    - Transpose of regular feature array ($X$ -> $X^T$)\n",
    "    - K clusters\n",
    "    - See what examples of $X^T$ are in what groups (i.e. what columns of $X$ are most similar)\n",
    "    - Perform some sort of averaging for each group\n",
    "    - Proceed with only K features    "
   ]
  },
  {
   "cell_type": "markdown",
   "metadata": {},
   "source": [
    "## Part 3: Wrapping into an API"
   ]
  },
  {
   "cell_type": "markdown",
   "metadata": {},
   "source": [
    "## Part 4: Make Predictions! (handled by user)"
   ]
  },
  {
   "cell_type": "code",
   "execution_count": 11,
   "metadata": {},
   "outputs": [],
   "source": [
    "import random as rd\n",
    "import pandas as pd"
   ]
  },
  {
   "cell_type": "code",
   "execution_count": 12,
   "metadata": {},
   "outputs": [],
   "source": [
    "n_rows = 100\n",
    "\n",
    "categories_1 = ('a', 'b', 'c', 'd', 'e')\n",
    "categories_2 = ('InstaMed', 'is', 'a', 'cool', 'company', 'check', 'it', 'out', 'sometime')\n",
    "rand_cats_1 = [rd.choice(categories_1) for i in range(n_rows)]\n",
    "rand_cats_2 = [rd.choice(categories_2) for i in range(n_rows)]\n",
    "\n",
    "example_df = pd.DataFrame({\n",
    "    'example_numerical_col_1': np.random.rand(n_rows) * 50,\n",
    "    'example_numerical_col_2': np.random.rand(n_rows) * 20,\n",
    "    'example_categorical_col_1': rand_cats_1,\n",
    "    'example_categorical_col_2': rand_cats_2,\n",
    "    'example_boolean_col_1': np.random.randint(low=0, high=2, size=n_rows),\n",
    "    'example_boolean_col_2': np.random.randint(low=0, high=2, size=n_rows)\n",
    "})"
   ]
  },
  {
   "cell_type": "code",
   "execution_count": 58,
   "metadata": {},
   "outputs": [
    {
     "data": {
      "text/html": [
       "<div>\n",
       "<style scoped>\n",
       "    .dataframe tbody tr th:only-of-type {\n",
       "        vertical-align: middle;\n",
       "    }\n",
       "\n",
       "    .dataframe tbody tr th {\n",
       "        vertical-align: top;\n",
       "    }\n",
       "\n",
       "    .dataframe thead th {\n",
       "        text-align: right;\n",
       "    }\n",
       "</style>\n",
       "<table border=\"1\" class=\"dataframe\">\n",
       "  <thead>\n",
       "    <tr style=\"text-align: right;\">\n",
       "      <th></th>\n",
       "      <th>0</th>\n",
       "      <th>1</th>\n",
       "      <th>2</th>\n",
       "      <th>3</th>\n",
       "      <th>4</th>\n",
       "      <th>5</th>\n",
       "      <th>6</th>\n",
       "      <th>7</th>\n",
       "      <th>8</th>\n",
       "      <th>9</th>\n",
       "      <th>...</th>\n",
       "      <th>90</th>\n",
       "      <th>91</th>\n",
       "      <th>92</th>\n",
       "      <th>93</th>\n",
       "      <th>94</th>\n",
       "      <th>95</th>\n",
       "      <th>96</th>\n",
       "      <th>97</th>\n",
       "      <th>98</th>\n",
       "      <th>99</th>\n",
       "    </tr>\n",
       "  </thead>\n",
       "  <tbody>\n",
       "    <tr>\n",
       "      <th>example_numerical_col_1</th>\n",
       "      <td>34.6687</td>\n",
       "      <td>2.99665</td>\n",
       "      <td>1.86134</td>\n",
       "      <td>2.05842</td>\n",
       "      <td>45.623</td>\n",
       "      <td>34.6985</td>\n",
       "      <td>10.6805</td>\n",
       "      <td>27.5274</td>\n",
       "      <td>3.30944</td>\n",
       "      <td>9.30971</td>\n",
       "      <td>...</td>\n",
       "      <td>39.9348</td>\n",
       "      <td>44.077</td>\n",
       "      <td>26.8351</td>\n",
       "      <td>22.82</td>\n",
       "      <td>29.0365</td>\n",
       "      <td>43.8795</td>\n",
       "      <td>41.7606</td>\n",
       "      <td>2.50871</td>\n",
       "      <td>38.018</td>\n",
       "      <td>0.42209</td>\n",
       "    </tr>\n",
       "    <tr>\n",
       "      <th>example_numerical_col_2</th>\n",
       "      <td>1.60882</td>\n",
       "      <td>3.21653</td>\n",
       "      <td>2.34413</td>\n",
       "      <td>19.4251</td>\n",
       "      <td>13.6199</td>\n",
       "      <td>6.92757</td>\n",
       "      <td>17.5574</td>\n",
       "      <td>1.4964</td>\n",
       "      <td>18.9592</td>\n",
       "      <td>15.7999</td>\n",
       "      <td>...</td>\n",
       "      <td>11.0552</td>\n",
       "      <td>12.3288</td>\n",
       "      <td>16.1861</td>\n",
       "      <td>15.5355</td>\n",
       "      <td>6.93201</td>\n",
       "      <td>10.4071</td>\n",
       "      <td>3.59924</td>\n",
       "      <td>15.3227</td>\n",
       "      <td>0.543366</td>\n",
       "      <td>12.5284</td>\n",
       "    </tr>\n",
       "    <tr>\n",
       "      <th>example_categorical_col_1</th>\n",
       "      <td>d</td>\n",
       "      <td>b</td>\n",
       "      <td>d</td>\n",
       "      <td>c</td>\n",
       "      <td>e</td>\n",
       "      <td>a</td>\n",
       "      <td>a</td>\n",
       "      <td>a</td>\n",
       "      <td>a</td>\n",
       "      <td>b</td>\n",
       "      <td>...</td>\n",
       "      <td>d</td>\n",
       "      <td>a</td>\n",
       "      <td>a</td>\n",
       "      <td>a</td>\n",
       "      <td>d</td>\n",
       "      <td>a</td>\n",
       "      <td>c</td>\n",
       "      <td>e</td>\n",
       "      <td>d</td>\n",
       "      <td>d</td>\n",
       "    </tr>\n",
       "    <tr>\n",
       "      <th>example_categorical_col_2</th>\n",
       "      <td>check</td>\n",
       "      <td>check</td>\n",
       "      <td>is</td>\n",
       "      <td>check</td>\n",
       "      <td>out</td>\n",
       "      <td>is</td>\n",
       "      <td>company</td>\n",
       "      <td>is</td>\n",
       "      <td>InstaMed</td>\n",
       "      <td>cool</td>\n",
       "      <td>...</td>\n",
       "      <td>sometime</td>\n",
       "      <td>it</td>\n",
       "      <td>check</td>\n",
       "      <td>check</td>\n",
       "      <td>is</td>\n",
       "      <td>it</td>\n",
       "      <td>cool</td>\n",
       "      <td>out</td>\n",
       "      <td>a</td>\n",
       "      <td>is</td>\n",
       "    </tr>\n",
       "    <tr>\n",
       "      <th>example_boolean_col_1</th>\n",
       "      <td>1</td>\n",
       "      <td>1</td>\n",
       "      <td>0</td>\n",
       "      <td>0</td>\n",
       "      <td>1</td>\n",
       "      <td>0</td>\n",
       "      <td>0</td>\n",
       "      <td>1</td>\n",
       "      <td>0</td>\n",
       "      <td>1</td>\n",
       "      <td>...</td>\n",
       "      <td>1</td>\n",
       "      <td>0</td>\n",
       "      <td>0</td>\n",
       "      <td>1</td>\n",
       "      <td>1</td>\n",
       "      <td>0</td>\n",
       "      <td>0</td>\n",
       "      <td>0</td>\n",
       "      <td>1</td>\n",
       "      <td>1</td>\n",
       "    </tr>\n",
       "    <tr>\n",
       "      <th>example_boolean_col_2</th>\n",
       "      <td>0</td>\n",
       "      <td>0</td>\n",
       "      <td>1</td>\n",
       "      <td>0</td>\n",
       "      <td>0</td>\n",
       "      <td>1</td>\n",
       "      <td>0</td>\n",
       "      <td>0</td>\n",
       "      <td>0</td>\n",
       "      <td>0</td>\n",
       "      <td>...</td>\n",
       "      <td>0</td>\n",
       "      <td>1</td>\n",
       "      <td>0</td>\n",
       "      <td>1</td>\n",
       "      <td>0</td>\n",
       "      <td>0</td>\n",
       "      <td>1</td>\n",
       "      <td>1</td>\n",
       "      <td>0</td>\n",
       "      <td>0</td>\n",
       "    </tr>\n",
       "  </tbody>\n",
       "</table>\n",
       "<p>6 rows × 100 columns</p>\n",
       "</div>"
      ],
      "text/plain": [
       "                                0        1        2        3        4   \\\n",
       "example_numerical_col_1    34.6687  2.99665  1.86134  2.05842   45.623   \n",
       "example_numerical_col_2    1.60882  3.21653  2.34413  19.4251  13.6199   \n",
       "example_categorical_col_1        d        b        d        c        e   \n",
       "example_categorical_col_2    check    check       is    check      out   \n",
       "example_boolean_col_1            1        1        0        0        1   \n",
       "example_boolean_col_2            0        0        1        0        0   \n",
       "\n",
       "                                5        6        7         8        9   \\\n",
       "example_numerical_col_1    34.6985  10.6805  27.5274   3.30944  9.30971   \n",
       "example_numerical_col_2    6.92757  17.5574   1.4964   18.9592  15.7999   \n",
       "example_categorical_col_1        a        a        a         a        b   \n",
       "example_categorical_col_2       is  company       is  InstaMed     cool   \n",
       "example_boolean_col_1            0        0        1         0        1   \n",
       "example_boolean_col_2            1        0        0         0        0   \n",
       "\n",
       "                            ...           90       91       92       93  \\\n",
       "example_numerical_col_1     ...      39.9348   44.077  26.8351    22.82   \n",
       "example_numerical_col_2     ...      11.0552  12.3288  16.1861  15.5355   \n",
       "example_categorical_col_1   ...            d        a        a        a   \n",
       "example_categorical_col_2   ...     sometime       it    check    check   \n",
       "example_boolean_col_1       ...            1        0        0        1   \n",
       "example_boolean_col_2       ...            0        1        0        1   \n",
       "\n",
       "                                94       95       96       97        98  \\\n",
       "example_numerical_col_1    29.0365  43.8795  41.7606  2.50871    38.018   \n",
       "example_numerical_col_2    6.93201  10.4071  3.59924  15.3227  0.543366   \n",
       "example_categorical_col_1        d        a        c        e         d   \n",
       "example_categorical_col_2       is       it     cool      out         a   \n",
       "example_boolean_col_1            1        0        0        0         1   \n",
       "example_boolean_col_2            0        0        1        1         0   \n",
       "\n",
       "                                99  \n",
       "example_numerical_col_1    0.42209  \n",
       "example_numerical_col_2    12.5284  \n",
       "example_categorical_col_1        d  \n",
       "example_categorical_col_2       is  \n",
       "example_boolean_col_1            1  \n",
       "example_boolean_col_2            0  \n",
       "\n",
       "[6 rows x 100 columns]"
      ]
     },
     "execution_count": 58,
     "metadata": {},
     "output_type": "execute_result"
    }
   ],
   "source": [
    "te = example_df.transpose(); te"
   ]
  },
  {
   "cell_type": "code",
   "execution_count": null,
   "metadata": {},
   "outputs": [],
   "source": []
  }
 ],
 "metadata": {
  "kernelspec": {
   "display_name": "Python 3",
   "language": "python",
   "name": "python3"
  },
  "language_info": {
   "codemirror_mode": {
    "name": "ipython",
    "version": 3
   },
   "file_extension": ".py",
   "mimetype": "text/x-python",
   "name": "python",
   "nbconvert_exporter": "python",
   "pygments_lexer": "ipython3",
   "version": "3.7.1"
  }
 },
 "nbformat": 4,
 "nbformat_minor": 2
}
