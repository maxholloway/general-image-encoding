{
 "cells": [
  {
   "cell_type": "markdown",
   "metadata": {},
   "source": [
    "# Balanced Clustering"
   ]
  },
  {
   "cell_type": "markdown",
   "metadata": {},
   "source": [
    "This is a document using a simple (greedy) algorithm for balancing clusters."
   ]
  },
  {
   "cell_type": "markdown",
   "metadata": {},
   "source": [
    "## Helper functions"
   ]
  },
  {
   "cell_type": "markdown",
   "metadata": {},
   "source": [
    "There are a number of helper functions here for the main algo. Most are self-explanatory, but the less intuitive ones have docstrings. This is not the focus of the notebook."
   ]
  },
  {
   "cell_type": "code",
   "execution_count": 20,
   "metadata": {},
   "outputs": [],
   "source": [
    "def argmin(D):\n",
    "    '''\n",
    "    Argmin for a dictionary, D.\n",
    "    '''\n",
    "    return min(D, key=D.get)"
   ]
  },
  {
   "cell_type": "code",
   "execution_count": 1,
   "metadata": {},
   "outputs": [],
   "source": [
    "def get_centroid(cluster_elements):\n",
    "    return cluster_elements.mean(axis=0)"
   ]
  },
  {
   "cell_type": "code",
   "execution_count": 2,
   "metadata": {},
   "outputs": [],
   "source": [
    "def get_centroids(clusters_dict):\n",
    "    return {k : get_centroid(clusters_dict[k]) for k in clusters_dict.keys()}"
   ]
  },
  {
   "cell_type": "code",
   "execution_count": 3,
   "metadata": {},
   "outputs": [],
   "source": [
    "def get_group_num_elements(group_name, clusters_dict):\n",
    "    return clusters_dict[group_name].shape[0]"
   ]
  },
  {
   "cell_type": "code",
   "execution_count": 4,
   "metadata": {},
   "outputs": [],
   "source": [
    "def get_all_group_sizes(clusters_dict):\n",
    "    return {group_name : get_group_num_elements(group_name, clusters_dict) for group_name in clusters_dict.keys()}"
   ]
  },
  {
   "cell_type": "code",
   "execution_count": 5,
   "metadata": {},
   "outputs": [],
   "source": [
    "def get_group_with_fewest_elements(clusters_dict):\n",
    "    '''\n",
    "    Given a dictionary, mapping from group name\n",
    "    to a numpy array of group element coordinates,\n",
    "    return the name (AKA key) of the group that has\n",
    "    the fewest number of elements. Ties are not handled\n",
    "    arbitrarily.\n",
    "    '''\n",
    "    group_names = list(clusters_dict.keys()) # create indexable list\n",
    "    num_elements_list = [ get_group_num_elements(group_name, clusters_dict) for group_name in group_names ] # find number of elements for each key\n",
    "    index_of_min = np.argmin(num_elements_list) # find index of min for the key\n",
    "    return group_names[index_of_min] # return the key at the index where the min occurred"
   ]
  },
  {
   "cell_type": "code",
   "execution_count": 6,
   "metadata": {},
   "outputs": [],
   "source": [
    "def distance_metric(a_coords, b_coords):\n",
    "    '''\n",
    "    This is flexible, but right now it's Euclidean\n",
    "    distance. It could alternatively be absolute distance,\n",
    "    or absolute distance cubed, or whatever.'''\n",
    "    difference_array = a_coords - b_coords\n",
    "    return np.linalg.norm(difference_array)"
   ]
  },
  {
   "cell_type": "code",
   "execution_count": 63,
   "metadata": {},
   "outputs": [],
   "source": [
    "from math import floor\n",
    "def get_smaller_than_average_cluster_names(cluster_dict):\n",
    "    '''\n",
    "    Returns names of clusters that need to increase their\n",
    "    number of elements in order to balance the clusters\n",
    "    over all. This means any cluster with fewer elements\n",
    "    than the floor of the average will be returned.\n",
    "    '''\n",
    "    total_num_elements = sum([get_group_num_elements(group_name, cluster_dict) for group_name in cluster_dict.keys()])\n",
    "    avg_group_size = total_num_elements / len(cluster_dict.keys())\n",
    "    group_sizes = get_all_group_sizes(cluster_dict)\n",
    "    smaller_than_avg_cluster_names = []\n",
    "    for group_name in cluster_dict.keys():\n",
    "        if ( get_group_num_elements(group_name, cluster_dict) <= floor(avg_group_size) ):\n",
    "            smaller_than_avg_cluster_names += [group_name]\n",
    "    return smaller_than_avg_cluster_names\n",
    "    "
   ]
  },
  {
   "cell_type": "code",
   "execution_count": 8,
   "metadata": {},
   "outputs": [],
   "source": [
    "def dictionary_check_equal(d1, d2):\n",
    "    '''\n",
    "    Checks whether two cluster dictionaries share\n",
    "    the exact same elements.\n",
    "    '''\n",
    "    if d1.keys() != d2.keys(): return False\n",
    "    num_equal = sum([1 if(np.array_equal(d1[k], d2[k])) else 0 for k in d1.keys()])\n",
    "    return True if num_equal == len(d1.keys()) else False"
   ]
  },
  {
   "cell_type": "code",
   "execution_count": 7,
   "metadata": {},
   "outputs": [],
   "source": [
    "import pandas as pd\n",
    "import seaborn as sns\n",
    "import matplotlib.pyplot as plt\n",
    "def plot_clusters(cluster_dict):\n",
    "    '''\n",
    "    The gist of this is to create a\n",
    "    dataframe with columns being\n",
    "    the x, y, and group name, and\n",
    "    then plotting this in seaborn\n",
    "    with the hue being the group name.\n",
    "    '''\n",
    "    def get_total_num_elements(cluster_dict):\n",
    "        '''\n",
    "        Just finds how many elements there\n",
    "        are total in the cluster_dict (not\n",
    "        how many numbers, but how many\n",
    "        elements; an element may have\n",
    "        multiple dimensions)'''\n",
    "        total = 0\n",
    "        for group_name in cluster_dict.keys():\n",
    "            total += get_group_num_elements(group_name, cluster_dict)\n",
    "        return total\n",
    "    \n",
    "    num_elements = get_total_num_elements(cluster_dict)\n",
    "    all_elements = [ [0 for j in range(3)] for i in range(num_elements) ]\n",
    "    row_counter = 0\n",
    "    for group_name in cluster_dict.keys():\n",
    "        cluster = cluster_dict[group_name]\n",
    "        for element in cluster:\n",
    "            all_elements[row_counter] = [group_name] + element.tolist()\n",
    "            row_counter += 1\n",
    "    all_elements_df = pd.DataFrame(all_elements, columns=['group_name', 'x', 'y'])\n",
    "#     print(all_elements_df)\n",
    "    sns.scatterplot(x='x', y='y', hue='group_name', data=all_elements_df)\n",
    "    plt.show()"
   ]
  },
  {
   "cell_type": "markdown",
   "metadata": {},
   "source": [
    "## Data"
   ]
  },
  {
   "cell_type": "markdown",
   "metadata": {},
   "source": [
    "In order for this make sense, we will generate a random field of data that occupies four quadrants in 2D space. Although this approach should technically generalize to n-dimensional space. Here, we will generate some arbitrary clusters for example. However, these clusters could come from any clustering algorithm; in the original write up, I imagined that they may originate from k-means, but this is very versatile."
   ]
  },
  {
   "cell_type": "code",
   "execution_count": 9,
   "metadata": {},
   "outputs": [],
   "source": [
    "import numpy as np\n",
    "def make_cluster(approx_centroid, noise_max, num_elements):\n",
    "    '''\n",
    "    Generates a cluster-ish area around the\n",
    "    approx_centroid coordinates.\n",
    "    \n",
    "    Returns an \n",
    "    '''\n",
    "#     assert type(approx_centroid) == type(['is', 'a', 'list'])\n",
    "    cluster = []\n",
    "    for i in range(num_elements):\n",
    "        noise = np.random.uniform(low=-noise_max, high=noise_max, size=len(approx_centroid))\n",
    "        coordinates = np.array(approx_centroid) + noise\n",
    "        cluster += [coordinates]\n",
    "    return np.array(cluster)"
   ]
  },
  {
   "cell_type": "code",
   "execution_count": 143,
   "metadata": {},
   "outputs": [],
   "source": [
    "approx_centroids = [[0, 0], [10, 0], [0, 10], [10, 10]]\n",
    "clusters = {\n",
    "    'A' : make_cluster([0, 0], 2, 1000), # based around (0, 0)\n",
    "    'B' : make_cluster([10, 0], 2, 120), # based around (10, 0)\n",
    "    'C' : make_cluster([0, 10], 2, 85), # based around (0, 10)\n",
    "    'D' : make_cluster([10, 10], 2, 110) # based around (10, 10)\n",
    "}"
   ]
  },
  {
   "cell_type": "markdown",
   "metadata": {},
   "source": [
    "## Important Methods"
   ]
  },
  {
   "cell_type": "code",
   "execution_count": 64,
   "metadata": {},
   "outputs": [],
   "source": [
    "def get_distances_from_small_group_centroid(cluster_dict, small_group_name):\n",
    "    '''\n",
    "    Goes and looks at all specified groups in a given\n",
    "    cluster dictionary. It reports the distance from\n",
    "    each individual point to the reference element.\n",
    "    \n",
    "    cluster_dict: a mapping from the name of each cluster to a numpy array of element\n",
    "    small_group_centroid: 1 dimensional numpy array of numbers \n",
    "    small_group_num_elements: the number of elements in the smallest group\n",
    "    return: \n",
    "        dictionary {\n",
    "            distance : dictionary{\n",
    "            'group_name': <string group name>, \n",
    "            'element': <np.array element values>\n",
    "            } \n",
    "        }\n",
    "        \n",
    "    '''\n",
    "    \n",
    "    other_group_names = set(cluster_dict.keys())\n",
    "    other_group_names.remove(small_group_name)\n",
    "    \n",
    "    centroids = get_centroids(cluster_dict)\n",
    "    small_group_centroid = centroids[small_group_name]\n",
    "    \n",
    "    small_group_num_elements = get_group_num_elements(small_group_name, cluster_dict)\n",
    "    \n",
    "    distances_from_small_group_centroid = {} \n",
    "    for group_name in other_group_names:\n",
    "        group_num_elements = get_group_num_elements(group_name, cluster_dict)\n",
    "        # The rule is that we can only take elements from a cluster that currently\n",
    "        # has at least 2 more elements than the cluster with the least number of elements\n",
    "        if (group_num_elements - small_group_num_elements) >= 2:\n",
    "            group_elements = cluster_dict[group_name]\n",
    "            # This could be sped up with list comprehension, but not implementing at this stage\n",
    "            # so as to preserve clarity\n",
    "            for element in group_elements:\n",
    "                distance_to_small_group_centroid = distance_metric(small_group_centroid, element)\n",
    "                distances_from_small_group_centroid[distance_to_small_group_centroid] = {\n",
    "                    'group_name':group_name, 'element':element\n",
    "                }\n",
    "    return distances_from_small_group_centroid\n"
   ]
  },
  {
   "cell_type": "code",
   "execution_count": 65,
   "metadata": {},
   "outputs": [],
   "source": [
    "def move_element(cluster_dict_inp, small_group_name, large_group_name, moving_element, verbose):\n",
    "    cluster_dict = cluster_dict_inp.copy()\n",
    "    \n",
    "    # Get the index of the row that should be taken out of the old cluster\n",
    "    index_of_deletion = np.argwhere(cluster_dict[large_group_name]==moving_element)[0, 0]\n",
    "    # Move row out of old cluster\n",
    "    cluster_dict[large_group_name] = np.delete(cluster_dict[large_group_name], index_of_deletion, axis=0)\n",
    "    # Move row to new, small cluster\n",
    "    cluster_dict[small_group_name] = np.append( cluster_dict[small_group_name], [moving_element], axis=0 )\n",
    "\n",
    "    if verbose.lower() in ('text', 'all'): print(f'Moving {moving_element} from cluster '\n",
    "                                                     + f'{large_group_name}'\n",
    "                                                      + f' to cluster {small_group_name}')\n",
    "    return cluster_dict\n"
   ]
  },
  {
   "cell_type": "code",
   "execution_count": 66,
   "metadata": {},
   "outputs": [],
   "source": [
    "def move_element_to_smallest(cluster_dict_inp, verbose):\n",
    "    '''\n",
    "    Description:\n",
    "        This method takes in clusters and then moves an element from a list with more\n",
    "        elements to the list with the fewest elements. Iterating on this stepper \n",
    "        guarantees making balanced clusters (i.e. it's impossible to get stuck in an\n",
    "        infinite loop of moving elements in circles).\n",
    "    \n",
    "    Parameters:\n",
    "        cluster_dict_inp: a dictionary that maps from cluster names to numpy arrays;\n",
    "                            the dimension of the array is the dimension of a sample\n",
    "        verbose: string, specifying the mode of verbosity; if it is 'all', then\n",
    "                 both text and plots will be displayed; if 'plot', then only plots\n",
    "                 will be displayed, not text; if 'text', then only text will be \n",
    "                 displayed, not plots.\n",
    "    Return:\n",
    "        Returns a cluster dictionary with one of the elements moved from a larger group to the smallest\n",
    "        group.\n",
    "    '''\n",
    "    cluster_dict = cluster_dict_inp.copy()\n",
    "    \n",
    "    if verbose.lower() in ('text', 'all'): print(f'Group sizes: {get_all_group_sizes(cluster_dict)}')\n",
    "    small_group_name = get_group_with_fewest_elements(cluster_dict)\n",
    "\n",
    "    # See how far the small group is from elements in larger groups\n",
    "    distances_from_small_group_centroid = get_distances_from_small_group_centroid(cluster_dict, small_group_name)\n",
    "    \n",
    "    if not distances_from_small_group_centroid:\n",
    "        # If the method returned an empty dictionary of possible distances,\n",
    "        # this implies that there are no further changes to make, and thus the\n",
    "        # function is finished running.\n",
    "        return cluster_dict\n",
    "    else:\n",
    "        # Now find the smallest centroid and move it from its current cluster to the smallest cluster\n",
    "        distances_from_small_group_centroid_list = distances_from_small_group_centroid.keys()\n",
    "        shortest_dist_from_small_centroid = min(distances_from_small_group_centroid_list)\n",
    "        moving_element_information = distances_from_small_group_centroid[shortest_dist_from_small_centroid]\n",
    "\n",
    "        moving_element_previous_group_name = moving_element_information['group_name']\n",
    "        moving_element = moving_element_information['element']\n",
    "\n",
    "        cluster_dict = move_element(cluster_dict, small_group_name, moving_element_previous_group_name,\n",
    "                                   moving_element, verbose)\n",
    "        return cluster_dict"
   ]
  },
  {
   "cell_type": "code",
   "execution_count": 102,
   "metadata": {},
   "outputs": [],
   "source": [
    "def get_smallest_dist_move(distance_dict):\n",
    "    '''\n",
    "    input: dictionary{ key = <small group name>, \n",
    "                      value = <dictionary {key = <distance>,\n",
    "                                           value = dictionary { key = 'group_name' : value = <group name>\n",
    "                                                                key = 'element' : value = <numpy array of element value>                                                           \n",
    "                                                              }\n",
    "                                           }\n",
    "                     }\n",
    "    returns: tuple of (<small group name>, <large group name>, <element>)\n",
    "    '''\n",
    "    # Getting the smallest possible move\n",
    "    small_group_names = distance_dict.keys()\n",
    "    \n",
    "    small_group_name_to_smallest_distance = {}\n",
    "    for small_group_name in small_group_names:\n",
    "        if distance_dict[small_group_name]:\n",
    "            small_group_name_to_smallest_distance[small_group_name] = min(\n",
    "                distance_dict[small_group_name].keys())\n",
    "    \n",
    "    if small_group_name_to_smallest_distance.keys():                                                                  \n",
    "        # Getting name of small group that will receive element (optimal group to receive element)\n",
    "        smallest_move_small_group_name = argmin(small_group_name_to_smallest_distance)\n",
    "\n",
    "        # Getting information of the group that the element is getting moved from\n",
    "        smallest_move_dist = small_group_name_to_smallest_distance[smallest_move_small_group_name]\n",
    "        element_to_move_info = distance_dict[smallest_move_small_group_name][smallest_move_dist]\n",
    "        element_previous_group_name = element_to_move_info['group_name']\n",
    "        element = element_to_move_info['element']\n",
    "        return (smallest_move_small_group_name, element_previous_group_name, element)\n",
    "    else:\n",
    "        return (None, None, None)\n",
    "        "
   ]
  },
  {
   "cell_type": "code",
   "execution_count": 117,
   "metadata": {},
   "outputs": [],
   "source": [
    "def move_element_to_optimal_smaller_cluster(cluster_dict_inp, verbose):\n",
    "    '''\n",
    "    Description:\n",
    "        Moves an element from to one of the clusters with fewer elements than average, by\n",
    "        taking an element from one of the clusters with at least two more elements. Very\n",
    "        similar to move_element_to_smallest(), but instead this method does not have\n",
    "        to move an element to the smallest cluster; it just needs to move an element to\n",
    "        a cluster that has fewer elements than average. This is the minimal constraint\n",
    "        for making monotonic progress toward balanced classes (that I've found, at least).\n",
    "    Parameters:\n",
    "        cluster_dict_inp:  a dictionary that maps from cluster names to numpy arrays;\n",
    "                            the dimension of the arrays is the dimension of a sample\n",
    "        verbose: string specifying the mode of verbosity; if it is 'all', then\n",
    "                 both text and plots will be displayed; if 'plot', then only plots\n",
    "                 will be displayed, not text; if 'text', then only text will be \n",
    "                 displayed, not plots.\n",
    "    Return:\n",
    "        Returns a new cluster dictionary.\n",
    "    '''\n",
    "    \n",
    "    cluster_dict = cluster_dict_inp.copy()\n",
    "\n",
    "    if verbose.lower() in ('text', 'all'): print(f'Group sizes: {get_all_group_sizes(cluster_dict)}')\n",
    "    \n",
    "    # Get names of clusters that could receive more elements\n",
    "    small_group_names = get_smaller_than_average_cluster_names(cluster_dict)\n",
    "    if verbose.lower() in ('all', 'text'): print(f'small_group_names: {small_group_names}')\n",
    "    small_group_name_to_moving_distance_dictionary = {group_name : \n",
    "                                                      get_distances_from_small_group_centroid(\n",
    "                                                          cluster_dict, group_name)\n",
    "                                                      for group_name in small_group_names}\n",
    "    # Get the information of the move that has the smallest distance metric\n",
    "    small_group_name, large_group_name, moving_element = get_smallest_dist_move(\n",
    "        small_group_name_to_moving_distance_dictionary)\n",
    "\n",
    "    if ((small_group_name != None) and (large_group_name != None) and (moving_element.size != 0)):\n",
    "        cluster_dict = move_element(cluster_dict, small_group_name, large_group_name, moving_element, verbose)\n",
    "    \n",
    "    return cluster_dict    \n",
    "    "
   ]
  },
  {
   "cell_type": "code",
   "execution_count": 147,
   "metadata": {},
   "outputs": [],
   "source": [
    "def balance_clusters(cluster_dict_inp, element_mover, max_iterations=100, verbose='text'):\n",
    "    '''\n",
    "    Description:\n",
    "        This method takes in clusters and then balances all of the clusters so\n",
    "        that they have the same number of elements (or are within one of each other).\n",
    "    \n",
    "    Parameters:\n",
    "        cluster_dict_inp: a dictionary that maps from cluster names to numpy arrays;\n",
    "                            the dimension of the array is the dimension of a sample\n",
    "        element_mover: a function that takes in the parameters below and then edits\n",
    "                       the cluster dictionary taken as input\n",
    "        max_iterations: the maximum number of iterations before the algorithm stops;\n",
    "                        this is a fail-safe from indefinite looping (although this\n",
    "                        should not be an issue if the code is correct)\n",
    "        verbose: string, specifying the mode of verbosity; if it is 'all', then\n",
    "                 both text and plots will be displayed; if 'plot', then only plots\n",
    "                 will be displayed, not text; if 'text', then only text will be \n",
    "                 displayed, not plots.\n",
    "    Return:\n",
    "        a dictionary of the exact same form as cluster_dict_inp, except with balanced\n",
    "        clusters\n",
    "    '''\n",
    "    cluster_dict = cluster_dict_inp.copy() # copy, so as not to edit original\n",
    "    \n",
    "    counter = 0 \n",
    "    while counter < max_iterations:\n",
    "        cluster_dict_old = cluster_dict.copy()\n",
    "        cluster_dict = element_mover(cluster_dict, verbose)\n",
    "        if dictionary_check_equal(cluster_dict_old, cluster_dict): \n",
    "            if verbose.lower() in ('text', 'all'): print('There are no more small groups.')\n",
    "            return cluster_dict # no changes were made to cluster dictionary, so return it\n",
    "        else:\n",
    "            # Plotting only works for 2 dimensional data. This checks if the data is 2D\n",
    "            is2d = len(cluster_dict[list(cluster_dict.keys())[0]][0]) == 2\n",
    "            if verbose.lower() in ('plot', 'all') and is2d: plot_clusters(cluster_dict)\n",
    "            counter += 1\n",
    "    return cluster_dict\n",
    "            \n",
    "            "
   ]
  },
  {
   "cell_type": "code",
   "execution_count": 151,
   "metadata": {
    "scrolled": true
   },
   "outputs": [
    {
     "name": "stdout",
     "output_type": "stream",
     "text": [
      "Finished simpler way in 4.652759790420532 seconds.\n"
     ]
    }
   ],
   "source": [
    "from time import time\n",
    "start = time()\n",
    "balanced_clusters_move_to_smallest = balance_clusters(clusters,\n",
    "                                                      move_element_to_smallest, \n",
    "                                                      max_iterations=1000,\n",
    "                                                      verbose='none')\n",
    "end = time()\n",
    "print(f\"Finished simpler way in {end-start} seconds.\")"
   ]
  },
  {
   "cell_type": "code",
   "execution_count": 152,
   "metadata": {},
   "outputs": [
    {
     "data": {
      "image/png": "[encoded data removed]",
      "text/plain": [
       "<Figure size 432x288 with 1 Axes>"
      ]
     },
     "metadata": {
      "needs_background": "light"
     },
     "output_type": "display_data"
    }
   ],
   "source": [
    "plot_clusters(balanced_clusters_move_to_smallest)"
   ]
  },
  {
   "cell_type": "code",
   "execution_count": 144,
   "metadata": {},
   "outputs": [
    {
     "name": "stdout",
     "output_type": "stream",
     "text": [
      "Finished more complicated way in 2.99137806892395 seconds.\n"
     ]
    }
   ],
   "source": [
    "start = time()\n",
    "balanced_clusters_move_to_optimal = balance_clusters(clusters, move_element_to_optimal_smaller_cluster, verbose='none')\n",
    "end = time()\n",
    "print(f\"Finished more complicated way in {end-start} seconds.\")\n"
   ]
  },
  {
   "cell_type": "code",
   "execution_count": 146,
   "metadata": {},
   "outputs": [
    {
     "ename": "AttributeError",
     "evalue": "'NoneType' object has no attribute 'keys'",
     "output_type": "error",
     "traceback": [
      "\u001b[0;31m---------------------------------------------------------------------------\u001b[0m",
      "\u001b[0;31mAttributeError\u001b[0m                            Traceback (most recent call last)",
      "\u001b[0;32m<ipython-input-146-1f0c8327de19>\u001b[0m in \u001b[0;36m<module>\u001b[0;34m\u001b[0m\n\u001b[0;32m----> 1\u001b[0;31m \u001b[0mget_all_group_sizes\u001b[0m\u001b[0;34m(\u001b[0m\u001b[0mbalanced_clusters_move_to_optimal\u001b[0m\u001b[0;34m)\u001b[0m\u001b[0;34m\u001b[0m\u001b[0;34m\u001b[0m\u001b[0m\n\u001b[0m",
      "\u001b[0;32m<ipython-input-4-312e9bed05b9>\u001b[0m in \u001b[0;36mget_all_group_sizes\u001b[0;34m(clusters_dict)\u001b[0m\n\u001b[1;32m      1\u001b[0m \u001b[0;32mdef\u001b[0m \u001b[0mget_all_group_sizes\u001b[0m\u001b[0;34m(\u001b[0m\u001b[0mclusters_dict\u001b[0m\u001b[0;34m)\u001b[0m\u001b[0;34m:\u001b[0m\u001b[0;34m\u001b[0m\u001b[0;34m\u001b[0m\u001b[0m\n\u001b[0;32m----> 2\u001b[0;31m     \u001b[0;32mreturn\u001b[0m \u001b[0;34m{\u001b[0m\u001b[0mgroup_name\u001b[0m \u001b[0;34m:\u001b[0m \u001b[0mget_group_num_elements\u001b[0m\u001b[0;34m(\u001b[0m\u001b[0mgroup_name\u001b[0m\u001b[0;34m,\u001b[0m \u001b[0mclusters_dict\u001b[0m\u001b[0;34m)\u001b[0m \u001b[0;32mfor\u001b[0m \u001b[0mgroup_name\u001b[0m \u001b[0;32min\u001b[0m \u001b[0mclusters_dict\u001b[0m\u001b[0;34m.\u001b[0m\u001b[0mkeys\u001b[0m\u001b[0;34m(\u001b[0m\u001b[0;34m)\u001b[0m\u001b[0;34m}\u001b[0m\u001b[0;34m\u001b[0m\u001b[0;34m\u001b[0m\u001b[0m\n\u001b[0m",
      "\u001b[0;31mAttributeError\u001b[0m: 'NoneType' object has no attribute 'keys'"
     ]
    }
   ],
   "source": [
    "get_all_group_sizes(balanced_clusters_move_to_optimal)"
   ]
  },
  {
   "cell_type": "code",
   "execution_count": 145,
   "metadata": {},
   "outputs": [
    {
     "ename": "AttributeError",
     "evalue": "'NoneType' object has no attribute 'keys'",
     "output_type": "error",
     "traceback": [
      "\u001b[0;31m---------------------------------------------------------------------------\u001b[0m",
      "\u001b[0;31mAttributeError\u001b[0m                            Traceback (most recent call last)",
      "\u001b[0;32m<ipython-input-145-ffd5b9e96961>\u001b[0m in \u001b[0;36m<module>\u001b[0;34m\u001b[0m\n\u001b[0;32m----> 1\u001b[0;31m \u001b[0mplot_clusters\u001b[0m\u001b[0;34m(\u001b[0m\u001b[0mbalanced_clusters_move_to_optimal\u001b[0m\u001b[0;34m)\u001b[0m\u001b[0;34m\u001b[0m\u001b[0;34m\u001b[0m\u001b[0m\n\u001b[0m",
      "\u001b[0;32m<ipython-input-7-1bef5ab363f4>\u001b[0m in \u001b[0;36mplot_clusters\u001b[0;34m(cluster_dict)\u001b[0m\n\u001b[1;32m     22\u001b[0m         \u001b[0;32mreturn\u001b[0m \u001b[0mtotal\u001b[0m\u001b[0;34m\u001b[0m\u001b[0;34m\u001b[0m\u001b[0m\n\u001b[1;32m     23\u001b[0m \u001b[0;34m\u001b[0m\u001b[0m\n\u001b[0;32m---> 24\u001b[0;31m     \u001b[0mnum_elements\u001b[0m \u001b[0;34m=\u001b[0m \u001b[0mget_total_num_elements\u001b[0m\u001b[0;34m(\u001b[0m\u001b[0mcluster_dict\u001b[0m\u001b[0;34m)\u001b[0m\u001b[0;34m\u001b[0m\u001b[0;34m\u001b[0m\u001b[0m\n\u001b[0m\u001b[1;32m     25\u001b[0m     \u001b[0mall_elements\u001b[0m \u001b[0;34m=\u001b[0m \u001b[0;34m[\u001b[0m \u001b[0;34m[\u001b[0m\u001b[0;36m0\u001b[0m \u001b[0;32mfor\u001b[0m \u001b[0mj\u001b[0m \u001b[0;32min\u001b[0m \u001b[0mrange\u001b[0m\u001b[0;34m(\u001b[0m\u001b[0;36m3\u001b[0m\u001b[0;34m)\u001b[0m\u001b[0;34m]\u001b[0m \u001b[0;32mfor\u001b[0m \u001b[0mi\u001b[0m \u001b[0;32min\u001b[0m \u001b[0mrange\u001b[0m\u001b[0;34m(\u001b[0m\u001b[0mnum_elements\u001b[0m\u001b[0;34m)\u001b[0m \u001b[0;34m]\u001b[0m\u001b[0;34m\u001b[0m\u001b[0;34m\u001b[0m\u001b[0m\n\u001b[1;32m     26\u001b[0m     \u001b[0mrow_counter\u001b[0m \u001b[0;34m=\u001b[0m \u001b[0;36m0\u001b[0m\u001b[0;34m\u001b[0m\u001b[0;34m\u001b[0m\u001b[0m\n",
      "\u001b[0;32m<ipython-input-7-1bef5ab363f4>\u001b[0m in \u001b[0;36mget_total_num_elements\u001b[0;34m(cluster_dict)\u001b[0m\n\u001b[1;32m     18\u001b[0m         multiple dimensions)'''\n\u001b[1;32m     19\u001b[0m         \u001b[0mtotal\u001b[0m \u001b[0;34m=\u001b[0m \u001b[0;36m0\u001b[0m\u001b[0;34m\u001b[0m\u001b[0;34m\u001b[0m\u001b[0m\n\u001b[0;32m---> 20\u001b[0;31m         \u001b[0;32mfor\u001b[0m \u001b[0mgroup_name\u001b[0m \u001b[0;32min\u001b[0m \u001b[0mcluster_dict\u001b[0m\u001b[0;34m.\u001b[0m\u001b[0mkeys\u001b[0m\u001b[0;34m(\u001b[0m\u001b[0;34m)\u001b[0m\u001b[0;34m:\u001b[0m\u001b[0;34m\u001b[0m\u001b[0;34m\u001b[0m\u001b[0m\n\u001b[0m\u001b[1;32m     21\u001b[0m             \u001b[0mtotal\u001b[0m \u001b[0;34m+=\u001b[0m \u001b[0mget_group_num_elements\u001b[0m\u001b[0;34m(\u001b[0m\u001b[0mgroup_name\u001b[0m\u001b[0;34m,\u001b[0m \u001b[0mcluster_dict\u001b[0m\u001b[0;34m)\u001b[0m\u001b[0;34m\u001b[0m\u001b[0;34m\u001b[0m\u001b[0m\n\u001b[1;32m     22\u001b[0m         \u001b[0;32mreturn\u001b[0m \u001b[0mtotal\u001b[0m\u001b[0;34m\u001b[0m\u001b[0;34m\u001b[0m\u001b[0m\n",
      "\u001b[0;31mAttributeError\u001b[0m: 'NoneType' object has no attribute 'keys'"
     ]
    }
   ],
   "source": [
    "plot_clusters(balanced_clusters_move_to_optimal)"
   ]
  },
  {
   "cell_type": "code",
   "execution_count": null,
   "metadata": {},
   "outputs": [],
   "source": []
  }
 ],
 "metadata": {
  "kernelspec": {
   "display_name": "Python 3",
   "language": "python",
   "name": "python3"
  },
  "language_info": {
   "codemirror_mode": {
    "name": "ipython",
    "version": 3
   },
   "file_extension": ".py",
   "mimetype": "text/x-python",
   "name": "python",
   "nbconvert_exporter": "python",
   "pygments_lexer": "ipython3",
   "version": "3.7.1"
  }
 },
 "nbformat": 4,
 "nbformat_minor": 2
}
